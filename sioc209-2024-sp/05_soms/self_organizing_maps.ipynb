{
 "cells": [
  {
   "cell_type": "markdown",
   "id": "c0d3d78d",
   "metadata": {},
   "source": [
    "# Introducing Self Organizing Maps"
   ]
  },
  {
   "cell_type": "markdown",
   "id": "cf87644b",
   "metadata": {},
   "source": []
  }
 ],
 "metadata": {
  "language_info": {
   "name": "python"
  }
 },
 "nbformat": 4,
 "nbformat_minor": 5
}
