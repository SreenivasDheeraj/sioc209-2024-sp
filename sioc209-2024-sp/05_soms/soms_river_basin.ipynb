{
 "cells": [
  {
   "cell_type": "markdown",
   "id": "cbffc4ef",
   "metadata": {},
   "source": [
    "# Applying SOMs to stream modification patterns"
   ]
  },
  {
   "cell_type": "markdown",
   "id": "0e6f5988",
   "metadata": {},
   "source": []
  }
 ],
 "metadata": {
  "language_info": {
   "name": "python"
  }
 },
 "nbformat": 4,
 "nbformat_minor": 5
}
